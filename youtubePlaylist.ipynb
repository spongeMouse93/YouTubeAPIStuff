{
 "cells": [
  {
   "cell_type": "code",
   "execution_count": 3,
   "id": "ddd4eae3",
   "metadata": {},
   "outputs": [],
   "source": [
    "from googleapiclient.discovery import build\n",
    "import re\n",
    "from datetime import timedelta"
   ]
  },
  {
   "cell_type": "code",
   "execution_count": 4,
   "id": "4b9c59fc",
   "metadata": {},
   "outputs": [],
   "source": [
    "yTube = build('youtube', 'v3', developerKey = 'YOUR_API_KEY')"
   ]
  },
  {
   "cell_type": "code",
   "execution_count": 18,
   "id": "31411a79",
   "metadata": {},
   "outputs": [],
   "source": [
    "def getYoutubePlaylistTotalTimeLength(playListId):\n",
    "    hours_pattern = re.compile(r'(\\d+)H')\n",
    "    minutes_pattern = re.compile(r'(\\d+)M')\n",
    "    seconds_pattern = re.compile(r'(\\d+)S')\n",
    "    total_seconds = 0\n",
    "    nextPageToken = None\n",
    "    while True:\n",
    "        pl_request = yTube.playlistItems().list(\n",
    "            part='contentDetails',\n",
    "            playlistId=playListId,\n",
    "            maxResults=50,\n",
    "            pageToken=nextPageToken\n",
    "        )\n",
    "        pl_response = pl_request.execute()\n",
    "        vid_ids = []\n",
    "        for item in pl_response['items']:\n",
    "            vid_ids.append(item['contentDetails']['videoId'])\n",
    "        vid_request = yTube.videos().list(\n",
    "            part=\"contentDetails\",\n",
    "            id=','.join(vid_ids)\n",
    "        )\n",
    "        vid_response = vid_request.execute()\n",
    "        for item in vid_response['items']:\n",
    "            duration = item['contentDetails']['duration']\n",
    "            hours = hours_pattern.search(duration)\n",
    "            minutes = minutes_pattern.search(duration)\n",
    "            seconds = seconds_pattern.search(duration)\n",
    "            hours = int(hours.group(1)) if hours else 0\n",
    "            minutes = int(minutes.group(1)) if minutes else 0\n",
    "            seconds = int(seconds.group(1)) if seconds else 0\n",
    "            video_seconds = timedelta(\n",
    "                hours=hours,\n",
    "                minutes=minutes,\n",
    "                seconds=seconds\n",
    "            ).total_seconds()\n",
    "            total_seconds += video_seconds\n",
    "        nextPageToken = pl_response.get('nextPageToken')\n",
    "        if not nextPageToken:\n",
    "            break\n",
    "    total_seconds = int(total_seconds)\n",
    "    minutes, seconds = divmod(total_seconds, 60)\n",
    "    hours, minutes = divmod(minutes, 60)\n",
    "    print(f'{hours}:{minutes}:{seconds}')"
   ]
  }
 ],
 "metadata": {
  "kernelspec": {
   "display_name": "Python 3 (ipykernel)",
   "language": "python",
   "name": "python3"
  },
  "language_info": {
   "codemirror_mode": {
    "name": "ipython",
    "version": 3
   },
   "file_extension": ".py",
   "mimetype": "text/x-python",
   "name": "python",
   "nbconvert_exporter": "python",
   "pygments_lexer": "ipython3",
   "version": "3.9.7"
  }
 },
 "nbformat": 4,
 "nbformat_minor": 5
}
